{
 "cells": [
  {
   "cell_type": "code",
   "execution_count": 3,
   "id": "a879f861",
   "metadata": {},
   "outputs": [],
   "source": [
    "import os\n",
    "import csv"
   ]
  },
  {
   "cell_type": "code",
   "execution_count": 4,
   "id": "885edbe5",
   "metadata": {},
   "outputs": [],
   "source": [
    "# variables\n",
    "candidates = []\n",
    "count_votes = []\n",
    "number_votes = 0"
   ]
  },
  {
   "cell_type": "code",
   "execution_count": 11,
   "id": "913924dc",
   "metadata": {},
   "outputs": [],
   "source": [
    "file_path = os.path.join(\"Resources\", \"analysis.txt\")\n",
    "election_data_csv = os.path.join(\"C:/Users/User/Downloads/python-challenge1/Instructions/PyPoll/Resources/election_data.csv\")"
   ]
  },
  {
   "cell_type": "code",
   "execution_count": 10,
   "id": "426c3690",
   "metadata": {},
   "outputs": [],
   "source": [
    "with open(election_data_csv, newline=\"\") as csvfile:\n",
    "    csvreader = csv.reader(csvfile)\n",
    "    next(csvreader) \n",
    "    candidates = []  \n",
    "    count_votes = []  \n",
    "    for row in csvreader:\n",
    "        candidate = row[2]  \n",
    "        if candidate in candidates:\n",
    "            candidate_index = candidates.index(candidate)\n",
    "            count_votes[candidate_index] += 1\n",
    "        else:\n",
    "            candidates.append(candidate)\n",
    "            count_votes.append(1)"
   ]
  },
  {
   "cell_type": "code",
   "execution_count": 13,
   "id": "fcdf6e24",
   "metadata": {},
   "outputs": [
    {
     "name": "stdout",
     "output_type": "stream",
     "text": [
      "272892\n",
      "Election Results\n",
      "--------------------------\n",
      "Total Votes: 2\n",
      "Charles Casper Stockham: 4260650.0% (85213)\n",
      "Diana DeGette: 13644600.0% (272892)\n",
      "Raymon Anthony Doane: 580300.0% (11606)\n",
      "---------------------------\n",
      "Winner: Diana DeGette\n",
      "---------------------------\n"
     ]
    }
   ],
   "source": [
    "percentages = []\n",
    "max_votes = count_votes[0]\n",
    "max_index = 0\n",
    "#find percentage of vote for each candidate and the winner\n",
    "for count in range(len(candidates)):\n",
    "    vote_percentage = count_votes[count]/number_votes*100\n",
    "    percentages.append(vote_percentage)\n",
    "    if count_votes[count] > max_votes:\n",
    "        max_votes = count_votes[count]\n",
    "        print(max_votes)\n",
    "        max_index = count\n",
    "winner = candidates[max_index]\n",
    "\n",
    "#print results\n",
    "print(\"Election Results\")\n",
    "print(\"--------------------------\")\n",
    "print(f\"Total Votes: {number_votes}\")\n",
    "for count in range(len(candidates)):\n",
    "    print(f\"{candidates[count]}: {percentages[count]}% ({count_votes[count]})\")\n",
    "print(\"---------------------------\")\n",
    "print(f\"Winner: {winner}\")\n",
    "print(\"---------------------------\")\n",
    "\n",
    "write_file = f\"analysis.txt\"\n",
    "filewriter = open(write_file, mode = 'w')\n",
    "\n",
    "#print analysis to file\n",
    "filewriter.write(\"Election Results\\n\")\n",
    "filewriter.write(\"--------------------------\\n\")\n",
    "filewriter.write(f\"Total Votes: {number_votes}\\n\")\n",
    "for count in range(len(candidates)):\n",
    "    filewriter.write(f\"{candidates[count]}: {percentages[count]}% ({count_votes[count]})\\n\")\n",
    "filewriter.write(\"---------------------------\\n\")\n",
    "filewriter.write(f\"Winner: {winner}\\n\")\n",
    "filewriter.write(\"---------------------------\\n\")\n",
    "filewriter.close()"
   ]
  }
 ],
 "metadata": {
  "kernelspec": {
   "display_name": "Python 3 (ipykernel)",
   "language": "python",
   "name": "python3"
  },
  "language_info": {
   "codemirror_mode": {
    "name": "ipython",
    "version": 3
   },
   "file_extension": ".py",
   "mimetype": "text/x-python",
   "name": "python",
   "nbconvert_exporter": "python",
   "pygments_lexer": "ipython3",
   "version": "3.7.7"
  }
 },
 "nbformat": 4,
 "nbformat_minor": 5
}
